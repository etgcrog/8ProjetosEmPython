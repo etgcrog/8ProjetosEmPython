{
 "cells": [
  {
   "cell_type": "markdown",
   "id": "311a5e62",
   "metadata": {},
   "source": [
    "# Module OS\n",
    "\n",
    "### Este módulo fornece uma maneira simples de usar funcionalidades que são dependentes do sistema operacional\n",
    "\n",
    "Se você quiser ler ou escrever um arquivo, veja open(); se o que quer é manipular estruturas de diretórios, veja o módulo os.path; e se quiser ler todas as linhas, de todos os arquivos, na linha de comando, veja o módulo fileinput. \n",
    "\n",
    "Para criar arquivos e diretórios temporários, veja o módulo tempfile; e, para manipulação em alto nível de arquivos e diretórios, veja o módulo shutil."
   ]
  },
  {
   "cell_type": "markdown",
   "id": "33052c64",
   "metadata": {},
   "source": [
    "### Notas sobre a disponibilidade dessas funções:"
   ]
  },
  {
   "cell_type": "markdown",
   "id": "79f5761a",
   "metadata": {},
   "source": [
    "O modelo dos módulos embutidos dependentes do sistema operacional no Python é tal que, desde que a mesma funcionalidade esteja disponível, a mesma interface é usada; por exemplo, a função os.stat(path) retorna informações estatísticas sobre path no mesmo formato (que é originado com a interface POSIX)."
   ]
  },
  {
   "cell_type": "markdown",
   "id": "34b2e4e3",
   "metadata": {},
   "source": [
    "Extensões específicas a um sistema operacional também estão disponíveis através do módulo os, mas usá-las é, naturalmente, uma ameaça à portabilidade."
   ]
  },
  {
   "cell_type": "markdown",
   "id": "2ffcfac4",
   "metadata": {},
   "source": [
    "Todas as funções que aceitam nomes de caminhos ou arquivos, aceitam objetos bytes e string, e resultam em um objeto do mesmo tipo, se um caminho ou nome de arquivo for retornado."
   ]
  },
  {
   "cell_type": "markdown",
   "id": "7142a567",
   "metadata": {},
   "source": [
    "Em VxWorks, os.popen, os.fork, os.execv e os.spawn*p* não são suportados."
   ]
  },
  {
   "cell_type": "code",
   "execution_count": 1,
   "id": "14334b31",
   "metadata": {},
   "outputs": [],
   "source": [
    "#primeiro passo é importar o módulo os\n",
    "import os"
   ]
  },
  {
   "cell_type": "code",
   "execution_count": 2,
   "id": "8260bf35",
   "metadata": {},
   "outputs": [
    {
     "name": "stderr",
     "output_type": "stream",
     "text": [
      "sh: line 1: winver: command not found\n"
     ]
    },
    {
     "data": {
      "text/plain": [
       "32512"
      ]
     },
     "execution_count": 2,
     "metadata": {},
     "output_type": "execute_result"
    }
   ],
   "source": [
    "#abre uma janela com as informações do sistema operacional Windows\n",
    "os.system(\"winver\")"
   ]
  },
  {
   "cell_type": "code",
   "execution_count": 3,
   "id": "be02f94c",
   "metadata": {},
   "outputs": [
    {
     "data": {
      "text/plain": [
       "'edudev'"
      ]
     },
     "execution_count": 3,
     "metadata": {},
     "output_type": "execute_result"
    }
   ],
   "source": [
    "# Mostra o usuário logado\n",
    "os.getlogin()"
   ]
  },
  {
   "cell_type": "code",
   "execution_count": 4,
   "id": "9a92aa0a",
   "metadata": {},
   "outputs": [
    {
     "name": "stdout",
     "output_type": "stream",
     "text": [
      "posix\n"
     ]
    }
   ],
   "source": [
    "# Printando o nome do sistema operacional\n",
    "print(os.name)"
   ]
  },
  {
   "cell_type": "code",
   "execution_count": 5,
   "id": "fc5ce186",
   "metadata": {},
   "outputs": [],
   "source": [
    "# Obtém o diretório de trabalho atual (CWD = current working directory)\n",
    "cwd = os.getcwd()"
   ]
  },
  {
   "cell_type": "code",
   "execution_count": 6,
   "id": "cfebfcf3",
   "metadata": {},
   "outputs": [
    {
     "name": "stdout",
     "output_type": "stream",
     "text": [
      "Current working directory: /home/edudev/Documents\n"
     ]
    }
   ],
   "source": [
    "# Printa na tela o diretório de trabalho atual(CWD)\n",
    "print(\"Current working directory:\", cwd)"
   ]
  },
  {
   "cell_type": "code",
   "execution_count": 7,
   "id": "d6cf6452",
   "metadata": {},
   "outputs": [],
   "source": [
    "# Função para obter o diretório de trabalho atual\n",
    "def current_path():\n",
    "    print(\"Current working directory:\")\n",
    "    print(os.getcwd())"
   ]
  },
  {
   "cell_type": "code",
   "execution_count": 8,
   "id": "11848901",
   "metadata": {},
   "outputs": [
    {
     "name": "stdout",
     "output_type": "stream",
     "text": [
      "Current working directory:\n",
      "/home/edudev/Documents\n"
     ]
    }
   ],
   "source": [
    "# Executando a função\n",
    "current_path()"
   ]
  },
  {
   "cell_type": "code",
   "execution_count": 9,
   "id": "fb165a58",
   "metadata": {},
   "outputs": [],
   "source": [
    "# Mudando o CWD\n",
    "os.chdir('../')"
   ]
  },
  {
   "cell_type": "code",
   "execution_count": 10,
   "id": "ef278a81",
   "metadata": {},
   "outputs": [
    {
     "name": "stdout",
     "output_type": "stream",
     "text": [
      "Current working directory:\n",
      "/home/edudev\n"
     ]
    }
   ],
   "source": [
    "# Printing CWD after\n",
    "current_path()"
   ]
  },
  {
   "cell_type": "markdown",
   "id": "576191c0",
   "metadata": {},
   "source": [
    "### Criando um diretório usando o os.mkdir()"
   ]
  },
  {
   "cell_type": "code",
   "execution_count": 11,
   "id": "e7012ef6",
   "metadata": {},
   "outputs": [
    {
     "name": "stdout",
     "output_type": "stream",
     "text": [
      "/home/edudev/SoulCode\n"
     ]
    }
   ],
   "source": [
    "#Atribuo na varíavel dir o nome do novo diretório\n",
    "dir = \"SoulCode\"\n",
    "\n",
    "#Atribuo na varíval parent_dir o caminho de trabalho atual\n",
    "parent_dir = os.getcwd()\n",
    "\n",
    "#Atribuo a variável path a função para realizar o join das variáveis anteriores\n",
    "path = os.path.join(parent_dir, dir)\n",
    "print(path)"
   ]
  },
  {
   "cell_type": "code",
   "execution_count": 12,
   "id": "66ed747d",
   "metadata": {},
   "outputs": [
    {
     "name": "stdout",
     "output_type": "stream",
     "text": [
      "Diretório 'SoulCode' criado\n"
     ]
    }
   ],
   "source": [
    "#com a função mkdir um novo diretório\n",
    "os.mkdir(path)\n",
    "\n",
    "print(\"Diretório '% s' criado\" % dir)"
   ]
  },
  {
   "cell_type": "markdown",
   "id": "2e29598e",
   "metadata": {},
   "source": [
    "### Listando os arquivos do diretório com os.listdir() lista os arquivos do diretório (equivalente ao dir do windows e ls do linux)\n"
   ]
  },
  {
   "cell_type": "code",
   "execution_count": 14,
   "id": "0b40e566",
   "metadata": {},
   "outputs": [
    {
     "name": "stdout",
     "output_type": "stream",
     "text": [
      "Files and directories in ' /home/edudev ' :\n",
      "['.mozilla', '.bash_logout', '.bash_profile', '.cache', '.config', '.local', 'Desktop', 'Downloads', 'Templates', 'Public', 'Documents', 'Music', 'Pictures', 'Videos', '.bash_history', '.pki', '.vscode', '.bashrc', '.icons', '.themes', '.mysql', '.var', 'UNIVERSITY.sql', '.mysql_history', '.ssh', '.gitconfig', '.lesshst', '.npm', 'ninja', '.python_history', '.ipython', 'SoulCode']\n"
     ]
    }
   ],
   "source": [
    "# Obtém a lista de todos os arquivos do diretório\n",
    "path = os.getcwd()\n",
    "dir_list = os.listdir(path)\n",
    " \n",
    "print(\"Files and directories in '\", path, \"' :\")\n",
    " \n",
    "# printa a lista\n",
    "print(dir_list)"
   ]
  },
  {
   "cell_type": "markdown",
   "id": "e17301cb",
   "metadata": {},
   "source": [
    "### Deletando pastas usando o os.remdir() (apenas pastas vazias)"
   ]
  },
  {
   "cell_type": "code",
   "execution_count": 14,
   "id": "6c232fc4",
   "metadata": {},
   "outputs": [],
   "source": [
    "# Nome do diretório\n",
    "dir = \"SoulCode\"\n",
    "     \n",
    "# Caminho do diretório\n",
    "parent = os.getcwd()\n",
    "     \n",
    "# Path\n",
    "path = os.path.join(parent, dir)\n",
    "     \n",
    "# Remove o diretório \n",
    "os.rmdir(path)"
   ]
  }
 ],
 "metadata": {
  "kernelspec": {
   "display_name": "Python 3 (ipykernel)",
   "language": "python",
   "name": "python3"
  },
  "language_info": {
   "codemirror_mode": {
    "name": "ipython",
    "version": 3
   },
   "file_extension": ".py",
   "mimetype": "text/x-python",
   "name": "python",
   "nbconvert_exporter": "python",
   "pygments_lexer": "ipython3",
   "version": "3.10.0"
  }
 },
 "nbformat": 4,
 "nbformat_minor": 5
}
